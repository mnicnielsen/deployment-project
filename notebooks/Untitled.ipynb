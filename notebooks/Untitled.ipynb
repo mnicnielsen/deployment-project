{
 "cells": [
  {
   "cell_type": "code",
   "execution_count": 4,
   "id": "abc7cae4-3bce-4fc3-ae22-d3732e7675cc",
   "metadata": {},
   "outputs": [
    {
     "ename": "IndentationError",
     "evalue": "expected an indented block (770023173.py, line 26)",
     "output_type": "error",
     "traceback": [
      "\u001b[1;36m  Input \u001b[1;32mIn [4]\u001b[1;36m\u001b[0m\n\u001b[1;33m    with open(json_file_path, 'w', encoding = 'utf-8') as json_file_handler:\u001b[0m\n\u001b[1;37m    ^\u001b[0m\n\u001b[1;31mIndentationError\u001b[0m\u001b[1;31m:\u001b[0m expected an indented block\n"
     ]
    }
   ],
   "source": [
    "# import csv\n",
    "# import json\n",
    " \n",
    "# def csv_to_json(csv_file_path, json_file_path):\n",
    "#     #create a dictionary\n",
    "#     data_dict = {}\n",
    " \n",
    "#     #Step 2\n",
    "#     #open a csv file handler\n",
    "#     with open(csv_file_path, encoding = 'utf-8') as csv_file_handler:\n",
    "#         csv_reader = csv.DictReader(csv_file_handler)\n",
    " \n",
    "#         #convert each row into a dictionary\n",
    "#         #and add the converted data to the data_variable\n",
    " \n",
    "#         for rows in csv_reader:\n",
    " \n",
    "#             #assuming a column named 'No'\n",
    "#             #to be the primary key\n",
    "#             # key = rows['Serial Number']\n",
    "#             # data_dict[key] = rows\n",
    " \n",
    "#     #open a json file handler and use json.dumps\n",
    "#     #method to dump the data\n",
    "#     #Step 3\n",
    "#     with open(json_file_path, 'w', encoding = 'utf-8') as json_file_handler:\n",
    "#         #Step 4\n",
    "#         json_file_handler.write(json.dumps(data_dict, indent = 4))\n",
    " \n",
    "# #driver code\n",
    "# #be careful while providing the path of the csv file\n",
    "# #provide the file path relative to your machine\n",
    " \n",
    "# #Step 1\n",
    "# csv_file_path = 'C:/Users/mnicn/local_documents/lighthouse-data-notes/Week 8/deployment-project/data/test_data.csv'\n",
    "# json_file_path = 'C:/Users/mnicn/local_documents/lighthouse-data-notes/Week 8/deployment-project/data/test_data.json'\n",
    " \n",
    "# csv_to_json(csv_file_path, json_file_path)\n"
   ]
  },
  {
   "cell_type": "code",
   "execution_count": null,
   "id": "f36b74b7-b392-46f6-ace4-158d20e548ab",
   "metadata": {},
   "outputs": [],
   "source": [
    "import pandas as pd\n",
    "df = pd.read_csv ('..Path where the CSV file is saved\\File Name.csv')\n",
    "df.to_json (r'Path where the new JSON file will be stored\\New File Name.json')"
   ]
  }
 ],
 "metadata": {
  "kernelspec": {
   "display_name": "Python 3 (ipykernel)",
   "language": "python",
   "name": "python3"
  },
  "language_info": {
   "codemirror_mode": {
    "name": "ipython",
    "version": 3
   },
   "file_extension": ".py",
   "mimetype": "text/x-python",
   "name": "python",
   "nbconvert_exporter": "python",
   "pygments_lexer": "ipython3",
   "version": "3.9.12"
  }
 },
 "nbformat": 4,
 "nbformat_minor": 5
}
