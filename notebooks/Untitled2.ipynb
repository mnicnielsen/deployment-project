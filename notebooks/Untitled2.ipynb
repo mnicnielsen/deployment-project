{
 "cells": [
  {
   "cell_type": "code",
   "execution_count": 1,
   "id": "eb16e0f2-b800-4486-b305-7a3ed600ea25",
   "metadata": {},
   "outputs": [],
   "source": [
    "import json"
   ]
  },
  {
   "cell_type": "code",
   "execution_count": 58,
   "id": "f11aea22-7d31-4d49-86b0-02153c9c84d2",
   "metadata": {},
   "outputs": [
    {
     "name": "stdout",
     "output_type": "stream",
     "text": [
      "...\n",
      "request successful\n",
      "...\n",
      "{'prediction': \"['N']\"}\n"
     ]
    }
   ],
   "source": [
    "## Python test file for flask to test locally\n",
    "import requests as r\n",
    "import pandas as pd\n",
    "import json\n",
    "\n",
    "\n",
    "base_url = 'http://127.0.0.1:5000/' #base url local host\n",
    "\n",
    "json_data = {\n",
    "        \"Gender\": 'Male',\n",
    "        \"Married\": 'Yes',\n",
    "        \"Dependents\": '0',\n",
    "        \"Education\": 'Graduate',\n",
    "        \"Self_Employed\": 'No',\n",
    "        \"ApplicantIncome\": 100000,\n",
    "        \"CoapplicantIncome\": 0,\n",
    "        \"LoanAmount\": 1,\n",
    "        \"Loan_Amount_Term\": 120,\n",
    "        \"Credit_History\": 0,\n",
    "        \"Property_Area\": 'Rural'\n",
    "        }\n",
    "\n",
    "# Get Response\n",
    "# response = r.get(base_url)\n",
    "response = r.post(base_url + \"predict\", json = json_data)\n",
    "\n",
    "\n",
    "if response.status_code == 200:\n",
    "    print('...')\n",
    "    print('request successful')\n",
    "    print('...')\n",
    "    print(response.json())\n",
    "else:\n",
    "    print(response.json())\n",
    "    print('request failed')"
   ]
  },
  {
   "cell_type": "code",
   "execution_count": null,
   "id": "541fb8b4-c625-4cf0-bdbf-4142aebc5fd9",
   "metadata": {},
   "outputs": [],
   "source": []
  }
 ],
 "metadata": {
  "kernelspec": {
   "display_name": "Python 3 (ipykernel)",
   "language": "python",
   "name": "python3"
  },
  "language_info": {
   "codemirror_mode": {
    "name": "ipython",
    "version": 3
   },
   "file_extension": ".py",
   "mimetype": "text/x-python",
   "name": "python",
   "nbconvert_exporter": "python",
   "pygments_lexer": "ipython3",
   "version": "3.9.12"
  }
 },
 "nbformat": 4,
 "nbformat_minor": 5
}
