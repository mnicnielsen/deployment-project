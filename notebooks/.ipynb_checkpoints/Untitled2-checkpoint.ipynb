{
 "cells": [
  {
   "cell_type": "code",
   "execution_count": 1,
   "id": "eb16e0f2-b800-4486-b305-7a3ed600ea25",
   "metadata": {},
   "outputs": [],
   "source": [
    "import json"
   ]
  },
  {
   "cell_type": "code",
   "execution_count": 2,
   "id": "712cc755-6da1-4d17-b964-0387b144a376",
   "metadata": {},
   "outputs": [
    {
     "ename": "KeyError",
     "evalue": "'emp_details'",
     "output_type": "error",
     "traceback": [
      "\u001b[1;31m---------------------------------------------------------------------------\u001b[0m",
      "\u001b[1;31mKeyError\u001b[0m                                  Traceback (most recent call last)",
      "Input \u001b[1;32mIn [2]\u001b[0m, in \u001b[0;36m<cell line: 14>\u001b[1;34m()\u001b[0m\n\u001b[0;32m     10\u001b[0m data \u001b[38;5;241m=\u001b[39m json\u001b[38;5;241m.\u001b[39mload(f)\n\u001b[0;32m     12\u001b[0m \u001b[38;5;66;03m# Iterating through the json\u001b[39;00m\n\u001b[0;32m     13\u001b[0m \u001b[38;5;66;03m# list\u001b[39;00m\n\u001b[1;32m---> 14\u001b[0m \u001b[38;5;28;01mfor\u001b[39;00m i \u001b[38;5;129;01min\u001b[39;00m \u001b[43mdata\u001b[49m\u001b[43m[\u001b[49m\u001b[38;5;124;43m'\u001b[39;49m\u001b[38;5;124;43memp_details\u001b[39;49m\u001b[38;5;124;43m'\u001b[39;49m\u001b[43m]\u001b[49m:\n\u001b[0;32m     15\u001b[0m     \u001b[38;5;28mprint\u001b[39m(i)\n\u001b[0;32m     17\u001b[0m \u001b[38;5;66;03m# Closing file\u001b[39;00m\n",
      "\u001b[1;31mKeyError\u001b[0m: 'emp_details'"
     ]
    }
   ],
   "source": [
    "# test_j = json.load('../data/test_data.json')\n",
    "\n",
    "# import json\n",
    "  \n",
    "# Opening JSON file\n",
    "f = open('../data/test_data.json')\n",
    "  \n",
    "# returns JSON object as \n",
    "# a dictionary\n",
    "data = json.load(f)\n",
    "  \n",
    "# Iterating through the json\n",
    "# list\n",
    "for i in data['emp_details']:\n",
    "    print(i)\n",
    "  \n",
    "# Closing file\n",
    "f.close()"
   ]
  },
  {
   "cell_type": "code",
   "execution_count": null,
   "id": "75fef668-c500-44cb-bc0b-4f1e3bb5570a",
   "metadata": {},
   "outputs": [],
   "source": [
    "# query_ = pd.get_dummies(pd.DataFrame(json_))\n",
    "# query = query_.reindex(columns = model_columns, fill_value = 0)\n",
    "# prediction = list(pipeline.predict(query))"
   ]
  },
  {
   "cell_type": "code",
   "execution_count": 3,
   "id": "0f222ff2-fb34-4be3-aae3-6c98a9a08b8b",
   "metadata": {},
   "outputs": [
    {
     "data": {
      "text/plain": [
       "{'Gender': {'0': 'Female', '1': 'Male'},\n",
       " 'Married': {'0': 'No', '1': 'Yes'},\n",
       " 'Dependents': {'0': 1, '1': 0},\n",
       " 'Education': {'0': 'Graduate', '1': 'Graduate'},\n",
       " 'Self_Employed': {'0': 'No', '1': 'No'},\n",
       " 'ApplicantIncome': {'0': 4723, '1': 2583},\n",
       " 'CoapplicantIncome': {'0': 0, '1': 2115},\n",
       " 'LoanAmount': {'0': 81, '1': 120},\n",
       " 'Loan_Amount_Term': {'0': 360, '1': 360},\n",
       " 'Credit_History': {'0': 1.0, '1': None},\n",
       " 'Property_Area': {'0': 'Semiurban', '1': 'Urban'}}"
      ]
     },
     "execution_count": 3,
     "metadata": {},
     "output_type": "execute_result"
    }
   ],
   "source": [
    "json.loads('{\"Gender\":{\"0\":\"Female\",\"1\":\"Male\"},\"Married\":{\"0\":\"No\",\"1\":\"Yes\"},\"Dependents\":{\"0\":1,\"1\":0},\"Education\":{\"0\":\"Graduate\",\"1\":\"Graduate\"},\"Self_Employed\":{\"0\":\"No\",\"1\":\"No\"},\"ApplicantIncome\":{\"0\":4723,\"1\":2583},\"CoapplicantIncome\":{\"0\":0,\"1\":2115},\"LoanAmount\":{\"0\":81,\"1\":120},\"Loan_Amount_Term\":{\"0\":360,\"1\":360},\"Credit_History\":{\"0\":1.0,\"1\":null},\"Property_Area\":{\"0\":\"Semiurban\",\"1\":\"Urban\"}}')"
   ]
  },
  {
   "cell_type": "code",
   "execution_count": 4,
   "id": "de23ba83-1d2c-4dd6-96ae-a7cc8cc6d30e",
   "metadata": {},
   "outputs": [
    {
     "data": {
      "text/plain": [
       "{'Gender': {'0': 'Female'},\n",
       " 'Married': {'0': 'No'},\n",
       " 'Dependents': {'0': 1},\n",
       " 'Education': {'0': 'Graduate'},\n",
       " 'Self_Employed': {'0': 'No'},\n",
       " 'ApplicantIncome': {'0': 4723},\n",
       " 'CoapplicantIncome': {'0': 0},\n",
       " 'LoanAmount': {'0': 81},\n",
       " 'Loan_Amount_Term': {'0': 360},\n",
       " 'Credit_History': {'0': 1},\n",
       " 'Property_Area': {'0': 'Semiurban'}}"
      ]
     },
     "execution_count": 4,
     "metadata": {},
     "output_type": "execute_result"
    }
   ],
   "source": [
    "{\"Gender\":{\"0\":\"Female\"},\"Married\":{\"0\":\"No\"},\"Dependents\":{\"0\":1},\"Education\":{\"0\":\"Graduate\"},\"Self_Employed\":{\"0\":\"No\"},\"ApplicantIncome\":{\"0\":4723},\"CoapplicantIncome\":{\"0\":0},\"LoanAmount\":{\"0\":81},\"Loan_Amount_Term\":{\"0\":360},\"Credit_History\":{\"0\":1},\"Property_Area\":{\"0\":\"Semiurban\"}}"
   ]
  },
  {
   "cell_type": "code",
   "execution_count": 35,
   "id": "f11aea22-7d31-4d49-86b0-02153c9c84d2",
   "metadata": {},
   "outputs": [
    {
     "name": "stdout",
     "output_type": "stream",
     "text": [
      "...\n",
      "request successful\n",
      "...\n",
      "{'trace': 'Traceback (most recent call last):\\n  File \"C:\\\\Users\\\\mnicn\\\\local_documents\\\\lighthouse-data-notes\\\\Week 8\\\\deployment-project\\\\notebooks\\\\app.py\", line 34, in predict\\n    return pipeline.predict(df).tolist()\\nNameError: name \\'pipeline\\' is not defined\\n'}\n"
     ]
    }
   ],
   "source": [
    "## Python test file for flask to test locally\n",
    "import requests as r\n",
    "import pandas as pd\n",
    "import json\n",
    "\n",
    "\n",
    "base_url = 'http://127.0.0.1:5000/' #base url local host\n",
    "\n",
    "json_data = {\n",
    "    \"Gender\": 'Male',\n",
    "    \"Married\": 'Yes',\n",
    "    \"Dependents\": '2',\n",
    "    \"Education\": 'Graduate',\n",
    "    \"Self_Employed\": 'No',\n",
    "    \"ApplicantIncome\": 6000,\n",
    "    \"CoapplicantIncome\": 0,\n",
    "    \"LoanAmount\": 95,\n",
    "    \"Loan_Amount_Term\": 240,\n",
    "    \"Credit_History\": 1,\n",
    "    \"Property_Area\": 'Semiurban'\n",
    "    }\n",
    "\n",
    "\n",
    "# df = pd.DataFrame(json_data)\n",
    "\n",
    "\n",
    "\n",
    "# Get Response\n",
    "# response = r.get(base_url)\n",
    "response = r.post(base_url + \"predict\", json = json_data)\n",
    "\n",
    "\n",
    "if response.status_code == 200:\n",
    "    print('...')\n",
    "    print('request successful')\n",
    "    print('...')\n",
    "    print(response.json())\n",
    "else:\n",
    "    print(response.json())\n",
    "    print('request failed')"
   ]
  },
  {
   "cell_type": "code",
   "execution_count": 7,
   "id": "90455e9b-b91f-4ba4-9c0e-6b50414eea5b",
   "metadata": {},
   "outputs": [],
   "source": [
    "import pickle"
   ]
  },
  {
   "cell_type": "code",
   "execution_count": 13,
   "id": "90aaf5cb-feff-4f14-af6f-d53a24ccab53",
   "metadata": {},
   "outputs": [],
   "source": [
    "with open('../data/model_columns.pkl', 'rb') as f:\n",
    "    model_columns = pickle.load (f)"
   ]
  },
  {
   "cell_type": "code",
   "execution_count": 14,
   "id": "4d9d3814-f99e-4a5c-91e6-a74847602b4f",
   "metadata": {},
   "outputs": [
    {
     "data": {
      "text/plain": [
       "['Gender',\n",
       " 'Married',\n",
       " 'Dependents',\n",
       " 'Education',\n",
       " 'Self_Employed',\n",
       " 'ApplicantIncome',\n",
       " 'CoapplicantIncome',\n",
       " 'LoanAmount',\n",
       " 'Loan_Amount_Term',\n",
       " 'Credit_History',\n",
       " 'Property_Area']"
      ]
     },
     "execution_count": 14,
     "metadata": {},
     "output_type": "execute_result"
    }
   ],
   "source": [
    "model_columns"
   ]
  },
  {
   "cell_type": "code",
   "execution_count": 15,
   "id": "7a5336c1-6f8a-49f4-8035-dc9cac01770a",
   "metadata": {},
   "outputs": [],
   "source": [
    "# query_ = pd.DataFrame(json_data)\n",
    "query_ = pd.get_dummies(pd.DataFrame(json_data))\n",
    "query = query_.reindex(columns = model_columns, fill_value = 0)"
   ]
  },
  {
   "cell_type": "code",
   "execution_count": 16,
   "id": "fc350668-31bb-4649-a00d-593f3e74fb91",
   "metadata": {},
   "outputs": [
    {
     "data": {
      "text/html": [
       "<div>\n",
       "<style scoped>\n",
       "    .dataframe tbody tr th:only-of-type {\n",
       "        vertical-align: middle;\n",
       "    }\n",
       "\n",
       "    .dataframe tbody tr th {\n",
       "        vertical-align: top;\n",
       "    }\n",
       "\n",
       "    .dataframe thead th {\n",
       "        text-align: right;\n",
       "    }\n",
       "</style>\n",
       "<table border=\"1\" class=\"dataframe\">\n",
       "  <thead>\n",
       "    <tr style=\"text-align: right;\">\n",
       "      <th></th>\n",
       "      <th>Gender</th>\n",
       "      <th>Married</th>\n",
       "      <th>Dependents</th>\n",
       "      <th>Education</th>\n",
       "      <th>Self_Employed</th>\n",
       "      <th>ApplicantIncome</th>\n",
       "      <th>CoapplicantIncome</th>\n",
       "      <th>LoanAmount</th>\n",
       "      <th>Loan_Amount_Term</th>\n",
       "      <th>Credit_History</th>\n",
       "      <th>Property_Area</th>\n",
       "    </tr>\n",
       "  </thead>\n",
       "  <tbody>\n",
       "    <tr>\n",
       "      <th>0</th>\n",
       "      <td>0</td>\n",
       "      <td>0</td>\n",
       "      <td>1</td>\n",
       "      <td>0</td>\n",
       "      <td>0</td>\n",
       "      <td>6000</td>\n",
       "      <td>0</td>\n",
       "      <td>95</td>\n",
       "      <td>240</td>\n",
       "      <td>1</td>\n",
       "      <td>0</td>\n",
       "    </tr>\n",
       "  </tbody>\n",
       "</table>\n",
       "</div>"
      ],
      "text/plain": [
       "   Gender  Married  Dependents  Education  Self_Employed  ApplicantIncome  \\\n",
       "0       0        0           1          0              0             6000   \n",
       "\n",
       "   CoapplicantIncome  LoanAmount  Loan_Amount_Term  Credit_History  \\\n",
       "0                  0          95               240               1   \n",
       "\n",
       "   Property_Area  \n",
       "0              0  "
      ]
     },
     "execution_count": 16,
     "metadata": {},
     "output_type": "execute_result"
    }
   ],
   "source": [
    "query"
   ]
  },
  {
   "cell_type": "code",
   "execution_count": null,
   "id": "4c947165-b308-4a4a-87e9-a1a65af5971e",
   "metadata": {},
   "outputs": [],
   "source": [
    "json_raw = \n",
    "\n",
    "json_data = request.get_json()\n",
    "df = pd.DataFrame(json_data.values(), index = json_data.keys()).transpose()\n",
    "df = df.reindex(columns = model_columns, fill_value = 0)\n",
    "return pipeline.predict(df).tolist()"
   ]
  }
 ],
 "metadata": {
  "kernelspec": {
   "display_name": "Python 3 (ipykernel)",
   "language": "python",
   "name": "python3"
  },
  "language_info": {
   "codemirror_mode": {
    "name": "ipython",
    "version": 3
   },
   "file_extension": ".py",
   "mimetype": "text/x-python",
   "name": "python",
   "nbconvert_exporter": "python",
   "pygments_lexer": "ipython3",
   "version": "3.9.12"
  }
 },
 "nbformat": 4,
 "nbformat_minor": 5
}
